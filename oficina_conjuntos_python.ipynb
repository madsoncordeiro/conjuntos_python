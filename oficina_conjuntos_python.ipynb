{
  "cells": [
    {
      "cell_type": "markdown",
      "metadata": {
        "id": "kam0jt0NpTm0"
      },
      "source": [
        "# Micro 09: Conjuntos e suas utilizações &ndash; oficina\n",
        "\n",
        "Ao planejar um casamento, um casal monta sua lista de presentes e faz uma pesquisa para encontrar algumas lojas de departamentos que trabalhem com este serviço. O casal encontra 4 lojas favoráveis, mas cada uma oferece apenas alguns dos presentes que gostariam de ganhar. Como não dá para colocar a lista em todas as lojas ao mesmo tempo, algumas perguntas podem ajudar a decidir o que fazer, como: \n",
        "\n",
        "1. Quais produtos são oferecidos em ao menos uma loja? \n",
        "1. Quais produtos são oferecidos em todas as lojas? \n",
        "1. Quais produtos não são encontrados em nenhuma loja? \n",
        "1. Quais produtos são exclusivos de cada loja? \n",
        "1. Se for possível escolher duas lojas pra cobrir um número maior de presentes, qual é o maior número de presentes que é possível cobrir dessa forma? \n",
        "\n",
        "Faça um programa que calcule e imprima as respostas para estas perguntas. As 3 primeiras perguntas podem ser respondidas imprimindo conjuntos ou listas com os produtos correspondentes. A quarta pergunta pode ser respondida imprimindo uma lista de 4 coleções de produtos, ou imprimindo uma coleção por linha. A quinta pergunta pode ser respondida apenas com o número de presentes da melhor combinação de lojas, não precisa dizer qual é a combinação. \n",
        "\n",
        "Abaixo, você encontra duas células: a primeira contém valores exemplo para a lista de presentes e para os catálogos das lojas; a segunta a saída esperada do programa, dadas estas definições. Escreva seu programa em uma célula intermediária."
      ]
    },
    {
      "cell_type": "code",
      "execution_count": 1,
      "metadata": {
        "id": "VywQ1cCqpTnB"
      },
      "outputs": [],
      "source": [
        "presentes = {\n",
        "    'cadeira', 'cafeteira', 'caneca', 'escumadeira',\n",
        "    'espanador', 'espátula', 'estante', 'faqueiro',\n",
        "    'frigideira', 'funil', 'halter', 'liquidificador',\n",
        "    'notebook', 'panela', 'peneira', 'playstation',\n",
        "    'rádio', 'smartphone', 'sofá', 'tablet', 'teclado',\n",
        "    'televisão', 'vassoura', 'webcam', 'xbox',\n",
        "}\n",
        "\n",
        "loja1 = {\n",
        "    'cadeira', 'cafeteira', 'caneca', 'escumadeira', 'estante',\n",
        "    'frigideira', 'funil', 'liquidificador', 'notebook', 'panela',\n",
        "    'playstation', 'smartphone', 'teclado', 'televisão'}\n",
        "loja2 = {\n",
        "    'cafeteira', 'escumadeira', 'espanador', 'frigideira', 'funil',\n",
        "    'halter', 'peneira', 'playstation', 'sofá', 'tablet', 'televisão',\n",
        "    'vassoura', 'webcam', 'xbox'}\n",
        "loja3 = {\n",
        "    'caneca', 'escumadeira', 'espanador', 'espátula', 'estante',\n",
        "    'frigideira', 'halter', 'playstation', 'rádio', 'smartphone',\n",
        "    'sofá', 'teclado', 'televisão', 'vassoura', 'xbox'}\n",
        "loja4 = {\n",
        "    'caneca', 'escumadeira', 'espanador', 'espátula', 'estante',\n",
        "    'frigideira', 'halter', 'playstation', 'rádio', 'smartphone',\n",
        "    'sofá', 'teclado', 'televisão', 'vassoura', 'xbox'}"
      ]
    },
    {
      "cell_type": "code",
      "source": [
        "uniao_produtos_lojas = (loja1 | loja2 | loja3 | loja4)\n",
        "\n",
        "interseccao_produtos_lojas = (loja1 & loja2 & loja3 & loja4)\n",
        "\n",
        "print(f'Pergunta 1 - Produtos oferecidos em, ao menos, uma loja: {uniao_produtos_lojas}. \\n'.upper())\n",
        "\n",
        "print(f'Pergunta 2 - Produtos oferecidos em todas as lojas: {interseccao_produtos_lojas}. \\n'.upper())\n",
        "\n",
        "print(f'Pergunta 3 - Produtos não encontrados em nenhuma loja: {presentes-(uniao_produtos_lojas)}. \\n'.upper())\n",
        "\n",
        "exclusivo_loja1 = loja1 - (loja2 | loja3 | loja4)\n",
        "exclusivo_loja2 = loja2 - (loja1 | loja3 | loja4)\n",
        "exclusivo_loja3 = loja3 - (loja1 | loja2 | loja4)\n",
        "exclusivo_loja4 = loja4 - (loja1 | loja2 | loja3)\n",
        "\n",
        "print(f'Pergunta 4 - Produtos exclusivos de cada loja: {[exclusivo_loja1 , exclusivo_loja2, exclusivo_loja3, exclusivo_loja4]}. \\n'.upper())\n",
        "\n",
        "lista_lojas = [loja1, loja2, loja3, loja4]\n",
        "combinacoes = []\n",
        "\n",
        "for a in range(len(lista_lojas)):\n",
        "    for b in range(len(lista_lojas)):\n",
        "        if a != b and a < b:\n",
        "            combinacoes.append(len(lista_lojas[a] | lista_lojas[b]))\n",
        "\n",
        "print(f'Pergunta 5 - O maior número de presentes que duas lojas podem cobrir é igual a: {max(combinacoes)}.'.upper())"
      ],
      "metadata": {
        "colab": {
          "base_uri": "https://localhost:8080/"
        },
        "id": "kyvUHoM7cdPV",
        "outputId": "68265ee7-9121-48e2-87c6-dd03219a5291"
      },
      "execution_count": 2,
      "outputs": [
        {
          "output_type": "stream",
          "name": "stdout",
          "text": [
            "PERGUNTA 1 - PRODUTOS OFERECIDOS EM, AO MENOS, UMA LOJA: {'XBOX', 'CANECA', 'LIQUIDIFICADOR', 'PLAYSTATION', 'FRIGIDEIRA', 'TECLADO', 'WEBCAM', 'CADEIRA', 'HALTER', 'TABLET', 'NOTEBOOK', 'ESPANADOR', 'ESPÁTULA', 'ESCUMADEIRA', 'PENEIRA', 'SMARTPHONE', 'ESTANTE', 'CAFETEIRA', 'VASSOURA', 'SOFÁ', 'PANELA', 'FUNIL', 'RÁDIO', 'TELEVISÃO'}. \n",
            "\n",
            "PERGUNTA 2 - PRODUTOS OFERECIDOS EM TODAS AS LOJAS: {'ESCUMADEIRA', 'PLAYSTATION', 'TELEVISÃO', 'FRIGIDEIRA'}. \n",
            "\n",
            "PERGUNTA 3 - PRODUTOS NÃO ENCONTRADOS EM NENHUMA LOJA: {'FAQUEIRO'}. \n",
            "\n",
            "PERGUNTA 4 - PRODUTOS EXCLUSIVOS DE CADA LOJA: [{'NOTEBOOK', 'PANELA', 'CADEIRA', 'LIQUIDIFICADOR'}, {'TABLET', 'PENEIRA', 'WEBCAM'}, SET(), SET()]. \n",
            "\n",
            "PERGUNTA 5 - O MAIOR NÚMERO DE PRESENTES QUE DUAS LOJAS PODEM COBRIR É IGUAL A: 22.\n"
          ]
        }
      ]
    }
  ],
  "metadata": {
    "celltoolbar": "Slideshow",
    "kernelspec": {
      "display_name": "Python 3",
      "language": "python",
      "name": "python3"
    },
    "language_info": {
      "codemirror_mode": {
        "name": "ipython",
        "version": 3
      },
      "file_extension": ".py",
      "mimetype": "text/x-python",
      "name": "python",
      "nbconvert_exporter": "python",
      "pygments_lexer": "ipython3",
      "version": "3.6.8"
    },
    "toc": {
      "base_numbering": 1,
      "nav_menu": {},
      "number_sections": true,
      "sideBar": true,
      "skip_h1_title": true,
      "title_cell": "Índice",
      "title_sidebar": "Contents",
      "toc_cell": false,
      "toc_position": {
        "height": "calc(100% - 180px)",
        "left": "10px",
        "top": "150px",
        "width": "337px"
      },
      "toc_section_display": true,
      "toc_window_display": true
    },
    "colab": {
      "provenance": []
    }
  },
  "nbformat": 4,
  "nbformat_minor": 0
}